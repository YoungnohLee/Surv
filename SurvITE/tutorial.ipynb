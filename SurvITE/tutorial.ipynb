{
 "cells": [
  {
   "cell_type": "code",
   "execution_count": 1,
   "metadata": {},
   "outputs": [
    {
     "name": "stdout",
     "output_type": "stream",
     "text": [
      "WARNING:tensorflow:From c:\\Users\\junio\\OneDrive\\바탕 화면\\SurvivalAnalysis\\SurvITE\\survITE\\models\\survite.py:3: The name tf.disable_eager_execution is deprecated. Please use tf.compat.v1.disable_eager_execution instead.\n",
      "\n",
      "WARNING:tensorflow:From c:\\Users\\junio\\OneDrive\\바탕 화면\\SurvivalAnalysis\\SurvITE\\survITE\\models\\survite.py:22: The name tf.AUTO_REUSE is deprecated. Please use tf.compat.v1.AUTO_REUSE instead.\n",
      "\n"
     ]
    }
   ],
   "source": [
    "import warnings\n",
    "warnings.filterwarnings('ignore')\n",
    "\n",
    "import numpy as np\n",
    "import pandas as pd\n",
    "\n",
    "import tensorflow.compat.v1 as tf\n",
    "import random\n",
    "import matplotlib.pyplot as plt\n",
    "\n",
    "from sksurv.metrics import concordance_index_ipcw\n",
    "\n",
    "from utils.utils import f_get_minibatch\n",
    "\n",
    "from models.survite import SurvITE\n",
    "\n",
    "import time\n",
    "\n",
    "from sklearn.model_selection import train_test_split\n",
    "\n",
    "import os"
   ]
  },
  {
   "cell_type": "code",
   "execution_count": 2,
   "metadata": {},
   "outputs": [
    {
     "name": "stdout",
     "output_type": "stream",
     "text": [
      "c:\\Users\\junio\\OneDrive\\바탕 화면\\SurvivalAnalysis\\SurvITE\\survITE\n"
     ]
    }
   ],
   "source": [
    "print(os.getcwd())"
   ]
  },
  {
   "cell_type": "code",
   "execution_count": 3,
   "metadata": {},
   "outputs": [],
   "source": [
    "ipm_type      = 'wasserstein'\n",
    "\n",
    "weight        = False\n",
    "is_smoothing  = False\n",
    "is_treat      = True\n",
    "\n",
    "is_training   = True#True\n",
    "\n",
    "OUT_ITERATION = 5\n",
    "N_tr = 5000\n",
    "N_te = 5000\n",
    "\n",
    "if not weight:\n",
    "    weight_type = 'noweight'\n",
    "else:\n",
    "    weight_type  = '' \n",
    "\n",
    "\n",
    "if ipm_type == 'no_ipm':\n",
    "    beta       = 0.\n",
    "else:\n",
    "    beta   = 1e-3 #1e-3\n",
    "\n",
    "    \n",
    "if is_smoothing:\n",
    "    gamma  = 1e-3\n",
    "else:\n",
    "    gamma  = 0.\n",
    "\n",
    "\n",
    "lr_rate   = 1e-3\n",
    "mb_size   = 512\n",
    "\n",
    "keep_prob = 0.7\n",
    "\n",
    "seed           = 1234\n",
    "\n",
    "TMAX           = 30\n",
    "eval_times     = [2, 4, 6, 8, 10, 12, 14, 16, 18, 20]\n",
    "\n",
    "\n",
    "# results_mse_hzrd1 = np.zeros([OUT_ITERATION, TMAX+1])\n",
    "# results_mse_hzrd0 = np.zeros([OUT_ITERATION, TMAX+1])\n",
    "\n",
    "# results_mse_surv1 = np.zeros([OUT_ITERATION, TMAX+1])\n",
    "# results_mse_surv0 = np.zeros([OUT_ITERATION, TMAX+1])\n",
    "\n",
    "# results_hte_hzrd   = np.zeros([OUT_ITERATION, TMAX+1])\n",
    "# results_hte_surv   = np.zeros([OUT_ITERATION, TMAX+1])\n",
    "\n",
    "# results1 = np.zeros([OUT_ITERATION, len(eval_times)])\n",
    "# results2 = np.zeros([OUT_ITERATION, len(eval_times)])\n",
    "# results3 = np.zeros([OUT_ITERATION, len(eval_times)])"
   ]
  },
  {
   "cell_type": "code",
   "execution_count": 4,
   "metadata": {},
   "outputs": [],
   "source": [
    "seed         = 1234\n",
    "modelname    = 'SurvITE'"
   ]
  },
  {
   "cell_type": "markdown",
   "metadata": {},
   "source": [
    "# IMPORT OBSERVATIONAL DATASET"
   ]
  },
  {
   "cell_type": "code",
   "execution_count": 5,
   "metadata": {},
   "outputs": [],
   "source": [
    "npz  = np.load('./data/tr_data.npz')\n",
    "tr_x = npz['x']\n",
    "tr_a = npz['a']\n",
    "tr_t = npz['t']\n",
    "tr_y = npz['y']\n",
    "\n",
    "npz  = np.load('./data/te_data.npz')\n",
    "te_x = npz['x']\n",
    "te_a = npz['a']\n",
    "te_t = npz['t']\n",
    "te_y = npz['y']\n",
    "\n",
    "tr_y_structured = [(tr_y[i], tr_t[i]) for i in range(len(tr_y))]\n",
    "tr_y_structured = np.array(tr_y_structured, dtype=[('status', 'bool'),('time','<f8')])\n",
    "\n",
    "te_y_structured = [(te_y[i], te_t[i]) for i in range(len(te_y))]\n",
    "te_y_structured = np.array(te_y_structured, dtype=[('status', 'bool'),('time','<f8')])\n",
    "\n",
    "\n",
    "TMAX           = 30\n",
    "eval_times     = [2, 4, 6, 8, 10, 12, 14, 16, 18, 20]\n",
    "\n",
    "\n",
    "results_mse_hzrd1 = np.zeros([1, TMAX+1])\n",
    "results_mse_hzrd0 = np.zeros([1, TMAX+1])\n",
    "\n",
    "results_mse_surv1 = np.zeros([1, TMAX+1])\n",
    "results_mse_surv0 = np.zeros([1, TMAX+1])\n",
    "\n",
    "results_hte_hzrd   = np.zeros([1, TMAX+1])\n",
    "results_hte_surv   = np.zeros([1, TMAX+1])\n",
    "\n",
    "results1 = np.zeros([1, len(eval_times)])\n",
    "results2 = np.zeros([1, len(eval_times)])\n",
    "results3 = np.zeros([1, len(eval_times)])"
   ]
  },
  {
   "cell_type": "markdown",
   "metadata": {},
   "source": [
    "# TRAINING"
   ]
  },
  {
   "cell_type": "code",
   "execution_count": 6,
   "metadata": {},
   "outputs": [
    {
     "name": "stdout",
     "output_type": "stream",
     "text": [
      "WARNING:tensorflow:From c:\\Users\\junio\\AppData\\Local\\Programs\\Python\\Python311\\Lib\\site-packages\\tensorflow\\python\\util\\dispatch.py:1260: calling dropout (from tensorflow.python.ops.nn_ops) with keep_prob is deprecated and will be removed in a future version.\n",
      "Instructions for updating:\n",
      "Please use `rate` instead of `keep_prob`. Rate should be set to `rate = 1 - keep_prob`.\n"
     ]
    },
    {
     "name": "stdout",
     "output_type": "stream",
     "text": [
      "WARNING:tensorflow:From c:\\Users\\junio\\AppData\\Local\\Programs\\Python\\Python311\\Lib\\site-packages\\tensorflow\\python\\util\\dispatch.py:1260: to_float (from tensorflow.python.ops.math_ops) is deprecated and will be removed in a future version.\n",
      "Instructions for updating:\n",
      "Use `tf.cast` instead.\n",
      "WARNING:tensorflow:From c:\\Users\\junio\\AppData\\Local\\Programs\\Python\\Python311\\Lib\\site-packages\\tensorflow\\python\\util\\dispatch.py:1260: calling reduce_sum_v1 (from tensorflow.python.ops.math_ops) with keep_dims is deprecated and will be removed in a future version.\n",
      "Instructions for updating:\n",
      "keep_dims is deprecated, use keepdims instead\n",
      "WARNING:tensorflow:From c:\\Users\\junio\\AppData\\Local\\Programs\\Python\\Python311\\Lib\\site-packages\\tensorflow\\python\\util\\dispatch.py:1260: div (from tensorflow.python.ops.math_ops) is deprecated and will be removed in a future version.\n",
      "Instructions for updating:\n",
      "Deprecated in favor of operator or tf.math.divide.\n",
      "WARNING:tensorflow:From c:\\Users\\junio\\OneDrive\\바탕 화면\\SurvivalAnalysis\\SurvITE\\survITE\\models\\survite.py:269: The name tf.train.AdamOptimizer is deprecated. Please use tf.compat.v1.train.AdamOptimizer instead.\n",
      "\n"
     ]
    }
   ],
   "source": [
    "num_Event   = 1\n",
    "\n",
    "z_dim       = 100\n",
    "x_dim       = np.shape(tr_x)[1]\n",
    "\n",
    "num_layers1  = 3\n",
    "h_dim1       = 100\n",
    "\n",
    "num_layers2  = 2\n",
    "h_dim2       = 100\n",
    "\n",
    "\n",
    "input_dims = {\n",
    "    'x_dim': x_dim,\n",
    "    'num_Event': num_Event,\n",
    "    't_max': TMAX+1\n",
    "}\n",
    "network_settings = {\n",
    "    'z_dim': z_dim,     \n",
    "\n",
    "    # Phi()\n",
    "    'h_dim1': h_dim1, \n",
    "    'num_layers1': num_layers1, \n",
    "\n",
    "    # Hypothesis()\n",
    "    'h_dim2': h_dim2, \n",
    "    'num_layers2': num_layers2,\n",
    "\n",
    "    'active_fn': tf.nn.elu,\n",
    "    'reg_scale': 0.,\n",
    "    'ipm_term' : ipm_type, \n",
    "    'is_treat' : is_treat,\n",
    "    'is_smoothing': is_smoothing\n",
    "}\n",
    "\n",
    "\n",
    "tf.reset_default_graph()\n",
    "\n",
    "config = tf.ConfigProto()\n",
    "config.gpu_options.allow_growth = True\n",
    "sess = tf.Session(config=config)\n",
    "\n",
    "model = SurvITE(sess, 'SurvITE', input_dims, network_settings)\n",
    "sess.run(tf.global_variables_initializer())\n",
    "\n",
    "saver       = tf.train.Saver()\n",
    "\n",
    "savepath = '/{}/surviTE/'.format(modelname)\n",
    "\n",
    "if not os.path.exists(savepath):\n",
    "    os.makedirs(savepath)"
   ]
  },
  {
   "cell_type": "code",
   "execution_count": 11,
   "metadata": {},
   "outputs": [
    {
     "name": "stdout",
     "output_type": "stream",
     "text": [
      "True\n"
     ]
    }
   ],
   "source": [
    "print(os.path.exists(savepath))"
   ]
  },
  {
   "cell_type": "code",
   "execution_count": 12,
   "metadata": {},
   "outputs": [
    {
     "name": "stdout",
     "output_type": "stream",
     "text": [
      "c:\\Users\\junio\\OneDrive\\바탕 화면\\SurvivalAnalysis\\SurvITE\\survITE\n"
     ]
    }
   ],
   "source": [
    "print(os.getcwd())"
   ]
  },
  {
   "cell_type": "code",
   "execution_count": 7,
   "metadata": {},
   "outputs": [],
   "source": [
    "if not is_treat:\n",
    "    tr_a = np.ones_like(tr_t)\n",
    "    te_a = np.ones_like(te_t)\n",
    "\n",
    "from sklearn.model_selection import train_test_split\n",
    "\n",
    "tr_y = tr_y.reshape([-1,1])\n",
    "tr_t = tr_t.reshape([-1,1])\n",
    "tr_a = tr_a.reshape([-1,1])\n",
    "\n",
    "if is_treat:\n",
    "    tr_w  = np.ones([np.shape(tr_x)[0], TMAX+1, 2])\n",
    "else:\n",
    "    tr_w  = np.ones([np.shape(tr_x)[0], TMAX+1, 1])\n",
    "\n",
    "tr_x_,va_x, tr_y_,va_y, tr_t_,va_t, tr_a_,va_a, tr_w_,va_w = train_test_split(tr_x, tr_y, tr_t, tr_a, tr_w, test_size=0.2, random_state=seed)"
   ]
  },
  {
   "cell_type": "code",
   "execution_count": 15,
   "metadata": {},
   "outputs": [
    {
     "name": "stdout",
     "output_type": "stream",
     "text": [
      "ITR 0100  | TR: loss_T=11.937 loss_S=6.944 loss_IPM=4992.920 | loss_T=8.440 loss_S=6.568 loss_IPM=1871.894\n",
      "model saved...\n",
      "ITR 0200  | TR: loss_T=11.504 loss_S=6.665 loss_IPM=4839.167 | loss_T=8.103 loss_S=6.384 loss_IPM=1719.746\n",
      "model saved...\n",
      "ITR 0300  | TR: loss_T=11.059 loss_S=6.364 loss_IPM=4694.209 | loss_T=7.804 loss_S=6.188 loss_IPM=1616.371\n",
      "model saved...\n",
      "ITR 0400  | TR: loss_T=10.768 loss_S=6.198 loss_IPM=4569.384 | loss_T=7.600 loss_S=6.112 loss_IPM=1488.980\n",
      "model saved...\n",
      "ITR 0500  | TR: loss_T=10.468 loss_S=6.053 loss_IPM=4415.491 | loss_T=7.354 loss_S=5.996 loss_IPM=1357.864\n",
      "model saved...\n",
      "ITR 0600  | TR: loss_T=10.313 loss_S=5.950 loss_IPM=4363.493 | loss_T=7.218 loss_S=5.917 loss_IPM=1300.993\n",
      "model saved...\n",
      "ITR 0700  | TR: loss_T=10.249 loss_S=5.958 loss_IPM=4290.608 | loss_T=7.096 loss_S=5.829 loss_IPM=1266.523\n",
      "model saved...\n",
      "ITR 0800  | TR: loss_T=10.197 loss_S=5.928 loss_IPM=4269.336 | loss_T=7.116 loss_S=5.860 loss_IPM=1255.618\n",
      "ITR 0900  | TR: loss_T=10.102 loss_S=5.853 loss_IPM=4248.236 | loss_T=7.124 loss_S=5.882 loss_IPM=1242.073\n",
      "ITR 1000  | TR: loss_T=10.035 loss_S=5.823 loss_IPM=4211.686 | loss_T=7.026 loss_S=5.793 loss_IPM=1232.911\n",
      "model saved...\n",
      "ITR 1100  | TR: loss_T=9.978 loss_S=5.801 loss_IPM=4176.846 | loss_T=7.012 loss_S=5.788 loss_IPM=1223.659\n",
      "model saved...\n",
      "ITR 1200  | TR: loss_T=9.976 loss_S=5.822 loss_IPM=4153.784 | loss_T=7.034 loss_S=5.816 loss_IPM=1218.063\n",
      "ITR 1300  | TR: loss_T=9.866 loss_S=5.716 loss_IPM=4150.059 | loss_T=7.014 loss_S=5.805 loss_IPM=1208.695\n",
      "ITR 1400  | TR: loss_T=9.938 loss_S=5.791 loss_IPM=4147.593 | loss_T=6.986 loss_S=5.788 loss_IPM=1198.116\n",
      "model saved...\n",
      "ITR 1500  | TR: loss_T=9.827 loss_S=5.720 loss_IPM=4106.633 | loss_T=6.967 loss_S=5.776 loss_IPM=1191.916\n",
      "model saved...\n",
      "ITR 1600  | TR: loss_T=9.880 loss_S=5.765 loss_IPM=4114.698 | loss_T=6.953 loss_S=5.760 loss_IPM=1193.177\n",
      "model saved...\n",
      "ITR 1700  | TR: loss_T=9.903 loss_S=5.787 loss_IPM=4115.420 | loss_T=6.948 loss_S=5.760 loss_IPM=1187.638\n",
      "model saved...\n",
      "ITR 1800  | TR: loss_T=9.898 loss_S=5.795 loss_IPM=4103.105 | loss_T=6.974 loss_S=5.785 loss_IPM=1188.836\n",
      "ITR 1900  | TR: loss_T=9.793 loss_S=5.716 loss_IPM=4077.380 | loss_T=6.916 loss_S=5.727 loss_IPM=1189.004\n",
      "model saved...\n",
      "ITR 2000  | TR: loss_T=9.810 loss_S=5.748 loss_IPM=4061.977 | loss_T=6.948 loss_S=5.764 loss_IPM=1184.347\n",
      "ITR 2100  | TR: loss_T=9.810 loss_S=5.729 loss_IPM=4080.699 | loss_T=6.897 loss_S=5.710 loss_IPM=1187.238\n",
      "model saved...\n",
      "ITR 2200  | TR: loss_T=9.771 loss_S=5.701 loss_IPM=4069.737 | loss_T=6.946 loss_S=5.757 loss_IPM=1188.916\n",
      "ITR 2300  | TR: loss_T=9.808 loss_S=5.746 loss_IPM=4062.146 | loss_T=6.954 loss_S=5.766 loss_IPM=1187.829\n",
      "ITR 2400  | TR: loss_T=9.744 loss_S=5.692 loss_IPM=4051.806 | loss_T=6.944 loss_S=5.766 loss_IPM=1178.162\n",
      "ITR 2500  | TR: loss_T=9.757 loss_S=5.730 loss_IPM=4026.865 | loss_T=6.946 loss_S=5.762 loss_IPM=1184.132\n",
      "ITR 2600  | TR: loss_T=9.711 loss_S=5.668 loss_IPM=4043.399 | loss_T=6.867 loss_S=5.690 loss_IPM=1177.361\n",
      "model saved...\n",
      "ITR 2700  | TR: loss_T=9.689 loss_S=5.658 loss_IPM=4030.643 | loss_T=6.930 loss_S=5.751 loss_IPM=1178.689\n",
      "ITR 2800  | TR: loss_T=9.723 loss_S=5.681 loss_IPM=4042.694 | loss_T=6.903 loss_S=5.733 loss_IPM=1170.209\n",
      "ITR 2900  | TR: loss_T=9.715 loss_S=5.688 loss_IPM=4027.508 | loss_T=6.917 loss_S=5.737 loss_IPM=1179.896\n",
      "ITR 3000  | TR: loss_T=9.750 loss_S=5.712 loss_IPM=4038.482 | loss_T=6.921 loss_S=5.741 loss_IPM=1180.270\n",
      "ITR 3100  | TR: loss_T=9.763 loss_S=5.721 loss_IPM=4041.537 | loss_T=6.972 loss_S=5.792 loss_IPM=1180.594\n",
      "ITR 3200  | TR: loss_T=9.696 loss_S=5.681 loss_IPM=4015.173 | loss_T=6.909 loss_S=5.730 loss_IPM=1179.658\n",
      "ITR 3300  | TR: loss_T=9.704 loss_S=5.676 loss_IPM=4028.103 | loss_T=6.907 loss_S=5.728 loss_IPM=1179.042\n",
      "ITR 3400  | TR: loss_T=9.676 loss_S=5.656 loss_IPM=4020.053 | loss_T=6.890 loss_S=5.709 loss_IPM=1180.589\n",
      "ITR 3500  | TR: loss_T=9.720 loss_S=5.696 loss_IPM=4023.118 | loss_T=6.900 loss_S=5.723 loss_IPM=1177.209\n",
      "ITR 3600  | TR: loss_T=9.670 loss_S=5.665 loss_IPM=4004.747 | loss_T=6.916 loss_S=5.732 loss_IPM=1183.118\n",
      "ITR 3700  | TR: loss_T=9.657 loss_S=5.646 loss_IPM=4011.538 | loss_T=6.908 loss_S=5.724 loss_IPM=1183.630\n",
      "ITR 3800  | TR: loss_T=9.610 loss_S=5.613 loss_IPM=3996.338 | loss_T=6.954 loss_S=5.766 loss_IPM=1187.716\n",
      "ITR 3900  | TR: loss_T=9.660 loss_S=5.681 loss_IPM=3978.171 | loss_T=6.873 loss_S=5.690 loss_IPM=1183.725\n",
      "ITR 4000  | TR: loss_T=9.727 loss_S=5.712 loss_IPM=4015.294 | loss_T=6.944 loss_S=5.759 loss_IPM=1184.341\n",
      "ITR 4100  | TR: loss_T=9.651 loss_S=5.661 loss_IPM=3990.070 | loss_T=6.913 loss_S=5.735 loss_IPM=1177.811\n",
      "ITR 4200  | TR: loss_T=9.595 loss_S=5.619 loss_IPM=3976.035 | loss_T=6.910 loss_S=5.733 loss_IPM=1176.461\n",
      "ITR 4300  | TR: loss_T=9.625 loss_S=5.643 loss_IPM=3982.315 | loss_T=6.938 loss_S=5.768 loss_IPM=1169.910\n",
      "ITR 4400  | TR: loss_T=9.676 loss_S=5.695 loss_IPM=3981.479 | loss_T=6.909 loss_S=5.731 loss_IPM=1177.961\n",
      "ITR 4500  | TR: loss_T=9.620 loss_S=5.653 loss_IPM=3966.045 | loss_T=6.917 loss_S=5.737 loss_IPM=1179.555\n",
      "ITR 4600  | TR: loss_T=9.586 loss_S=5.632 loss_IPM=3954.258 | loss_T=6.922 loss_S=5.749 loss_IPM=1173.508\n"
     ]
    }
   ],
   "source": [
    "iterations = 20000\n",
    "\n",
    "avg_tr_loss_total = 0.\n",
    "avg_tr_loss       = 0.\n",
    "avg_tr_loss_ipm   = 0.\n",
    "\n",
    "avg_va_loss_total = 0.\n",
    "avg_va_loss       = 0.\n",
    "avg_va_loss_ipm   = 0.\n",
    "\n",
    "check_step        = 100\n",
    "\n",
    "min_loss          = 1e+8\n",
    "max_flag          = 20\n",
    "stop_flag         = 0\n",
    "\n",
    "\n",
    "if is_training:\n",
    "    for itr in range(iterations):    \n",
    "        if beta == 0.:\n",
    "            x_mb, y_mb, t_mb, a_mb = f_get_minibatch(mb_size, tr_x_, tr_y_, tr_t_, tr_a_)    \n",
    "            _, _, tmp_tr_loss          = model.train_baseline(x_mb, y_mb, t_mb, a_mb, lr_train_=lr_rate, k_prob_=keep_prob)\n",
    "            avg_tr_loss_total         += tmp_tr_loss/check_step\n",
    "            avg_tr_loss               += tmp_tr_loss/check_step\n",
    "\n",
    "            x_mb, y_mb, t_mb, a_mb = f_get_minibatch(min(mb_size, np.shape(va_x)[0]), va_x, va_y, va_t, va_a)    \n",
    "            tmp_va_loss                = model.get_loss_basline(x_mb, y_mb, t_mb, a_mb, k_prob_=keep_prob)\n",
    "            avg_va_loss_total         += tmp_va_loss/check_step\n",
    "            avg_va_loss               += tmp_va_loss/check_step\n",
    "\n",
    "        else:\n",
    "            x_mb, y_mb, t_mb, a_mb, w_mb = f_get_minibatch(mb_size, tr_x_, tr_y_, tr_t_, tr_a_, tr_w_)\n",
    "            _, _, tmp_tr_loss_total, tmp_tr_loss, tmp_tr_loss_ipm = model.train(x_mb, y_mb, t_mb, a_mb, w_mb, \n",
    "                                                                                beta_=beta, gamma_=gamma, \n",
    "                                                                                lr_train_=lr_rate, k_prob_=keep_prob)\n",
    "            avg_tr_loss_total         += tmp_tr_loss_total/check_step\n",
    "            avg_tr_loss               += tmp_tr_loss/check_step\n",
    "            avg_tr_loss_ipm           += tmp_tr_loss_ipm/check_step\n",
    "\n",
    "            x_mb, y_mb, t_mb, a_mb, w_mb = f_get_minibatch(min(mb_size, np.shape(va_x)[0]), va_x, va_y, va_t, va_a, va_w)    \n",
    "            tmp_va_loss_total, tmp_va_loss, tmp_va_loss_ipm      = model.get_loss(x_mb, y_mb, t_mb, a_mb, w_mb, \n",
    "                                                                                  beta_=beta, gamma_=gamma, \n",
    "                                                                                  k_prob_=1.0)\n",
    "            avg_va_loss_total         += tmp_va_loss_total/check_step\n",
    "            avg_va_loss               += tmp_va_loss/check_step\n",
    "            avg_va_loss_ipm           += tmp_va_loss_ipm/check_step\n",
    "\n",
    "        if (itr + 1)%check_step == 0:\n",
    "            stop_flag += 1\n",
    "\n",
    "            print(\n",
    "                \"ITR {:04d}  | TR: loss_T={:.3f} loss_S={:.3f} loss_IPM={:.3f} | loss_T={:.3f} loss_S={:.3f} loss_IPM={:.3f}\".format(\n",
    "                itr+1, avg_tr_loss_total, avg_tr_loss, avg_tr_loss_ipm, avg_va_loss_total, avg_va_loss, avg_va_loss_ipm)\n",
    "            )\n",
    "\n",
    "            if min_loss > avg_va_loss_total:\n",
    "                min_loss  = avg_va_loss_total\n",
    "                stop_flag = 0\n",
    "                \n",
    "                # savepath = './{}/surviTE/'.format(modelname)\n",
    "                saver.save(sess, 'model_{}{}'.format(ipm_type,weight_type))\n",
    "                print('model saved...')\n",
    "\n",
    "            else:\n",
    "                if stop_flag >= max_flag:\n",
    "                    break\n",
    "\n",
    "\n",
    "            avg_tr_loss_total = 0.\n",
    "            avg_tr_loss = 0.\n",
    "            avg_tr_loss_ipm = 0.\n",
    "\n",
    "            avg_va_loss_total = 0.\n",
    "            avg_va_loss = 0.\n",
    "            avg_va_loss_ipm = 0."
   ]
  },
  {
   "cell_type": "markdown",
   "metadata": {},
   "source": [
    "# TESTING"
   ]
  },
  {
   "cell_type": "code",
   "execution_count": 16,
   "metadata": {},
   "outputs": [
    {
     "name": "stdout",
     "output_type": "stream",
     "text": [
      "INFO:tensorflow:Restoring parameters from model_wassersteinnoweight\n"
     ]
    }
   ],
   "source": [
    "saver.restore(sess, 'model_{}{}'.format(ipm_type,weight_type))"
   ]
  },
  {
   "cell_type": "code",
   "execution_count": 17,
   "metadata": {},
   "outputs": [],
   "source": [
    "surv1 = model.predict_survival_A1(te_x)\n",
    "surv0 = model.predict_survival_A0(te_x)\n",
    "\n",
    "hzrd1 = model.predict_hazard_A1(te_x)\n",
    "hzrd0 = model.predict_hazard_A0(te_x)\n",
    "\n",
    "hzrd = np.zeros_like(hzrd1)\n",
    "if is_treat:\n",
    "    hzrd[te_a == 0, :] = hzrd0[te_a == 0, :]\n",
    "hzrd[te_a == 1, :] = hzrd1[te_a == 1, :]\n",
    "\n",
    "surv = np.zeros_like(surv1)\n",
    "if is_treat:\n",
    "    surv[te_a == 0, :] = surv0[te_a == 0, :]\n",
    "surv[te_a == 1, :] = surv1[te_a == 1, :]"
   ]
  },
  {
   "cell_type": "code",
   "execution_count": 51,
   "metadata": {},
   "outputs": [
    {
     "data": {
      "text/plain": [
       "[<matplotlib.lines.Line2D at 0x2cd08a00a90>]"
      ]
     },
     "execution_count": 51,
     "metadata": {},
     "output_type": "execute_result"
    },
    {
     "data": {
      "image/png": "[encoded data removed]",
      "text/plain": [
       "<Figure size 640x480 with 1 Axes>"
      ]
     },
     "metadata": {},
     "output_type": "display_data"
    }
   ],
   "source": [
    "i = 0\n",
    "plt.plot(surv[i], color = \"black\")\n",
    "plt.plot(surv0[i], color = \"blue\", alpha = 0.3)\n",
    "plt.plot(surv1[i], color = \"red\", alpha = 0.3)\n"
   ]
  },
  {
   "cell_type": "code",
   "execution_count": 101,
   "metadata": {},
   "outputs": [
    {
     "data": {
      "text/plain": [
       "Text(0.5, 1.0, \"0-th individual's HTE\")"
      ]
     },
     "execution_count": 101,
     "metadata": {},
     "output_type": "execute_result"
    },
    {
     "data": {
      "image/png": "[encoded data removed]",
      "text/plain": [
       "<Figure size 640x480 with 1 Axes>"
      ]
     },
     "metadata": {},
     "output_type": "display_data"
    }
   ],
   "source": [
    "hte = surv0-surv1\n",
    "plt.plot(hte[0])\n",
    "plt.title(\"0-th individual's HTE\")"
   ]
  },
  {
   "cell_type": "code",
   "execution_count": 115,
   "metadata": {},
   "outputs": [
    {
     "data": {
      "text/plain": [
       "Text(0.5, 1.0, \"1028-th individual's HTE\")"
      ]
     },
     "execution_count": 115,
     "metadata": {},
     "output_type": "execute_result"
    },
    {
     "data": {
      "image/png": "[encoded data removed]",
      "text/plain": [
       "<Figure size 640x480 with 1 Axes>"
      ]
     },
     "metadata": {},
     "output_type": "display_data"
    }
   ],
   "source": [
    "k = np.random.randint(0,5000)\n",
    "plt.plot(hte[k])\n",
    "plt.title(f\"{k}-th individual's HTE\")"
   ]
  }
 ],
 "metadata": {
  "kernelspec": {
   "display_name": "Python 3",
   "language": "python",
   "name": "python3"
  },
  "language_info": {
   "codemirror_mode": {
    "name": "ipython",
    "version": 3
   },
   "file_extension": ".py",
   "mimetype": "text/x-python",
   "name": "python",
   "nbconvert_exporter": "python",
   "pygments_lexer": "ipython3",
   "version": "3.11.4"
  }
 },
 "nbformat": 4,
 "nbformat_minor": 4
}
